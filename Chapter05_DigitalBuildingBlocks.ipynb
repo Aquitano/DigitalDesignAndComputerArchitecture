{
 "cells": [
  {
   "cell_type": "markdown",
   "id": "prospective-impression",
   "metadata": {},
   "source": [
    "## Chapter 5 - Digital Building Blocks \n",
    "\n",
    "\n",
    "\n",
    "### 5.1 Introduction\n",
    "\n",
    "### 5.2 Arithmetic Circuit \n",
    "\n",
    "### 5.3 Number Systems \n",
    "\n",
    "### 5.4 Sequential Building Blocks \n",
    "\n",
    "### 5.5 Memory Array \n",
    "\n",
    "### 5.6 Logic Array \n",
    "\n",
    "### 5.7 Summary \n",
    "\n",
    "\n",
    "## Exercises:"
   ]
  }
 ],
 "metadata": {
  "kernelspec": {
   "display_name": "Python 3",
   "language": "python",
   "name": "python3"
  },
  "language_info": {
   "codemirror_mode": {
    "name": "ipython",
    "version": 3
   },
   "file_extension": ".py",
   "mimetype": "text/x-python",
   "name": "python",
   "nbconvert_exporter": "python",
   "pygments_lexer": "ipython3",
   "version": "3.9.2"
  }
 },
 "nbformat": 4,
 "nbformat_minor": 5
}
