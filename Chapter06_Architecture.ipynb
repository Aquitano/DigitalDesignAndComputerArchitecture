{
 "cells": [
  {
   "cell_type": "markdown",
   "id": "amber-robert",
   "metadata": {},
   "source": [
    "## Chapter 6 - Architecture \n",
    "\n",
    "\n",
    "## Exercises:"
   ]
  },
  {
   "cell_type": "markdown",
   "id": "owned-tissue",
   "metadata": {},
   "source": [
    "#### Exercise 6.1\n",
    "\n",
    "(1) Simplicity favors regularity:  <br> \n",
    "- Instruction types are limited to 3\n",
    "- Instructions involve at most 3 operands\n",
    "- All instruction have 32 bits\n",
    " \n",
    "(2) Make the common case fast: <br>\n",
    "- The MIPS computer architecture is a RISC architecture resulting in a smaller number of available instruction, simpler hardware, and thus a higher speed. \n",
    "\n",
    "(3) Smaller is faster: <br> \n",
    "- Number of registers is limited to 32\n",
    "- MIPS instruction set omits certain operations (e.g. nori, not) that are special cases of other operations, or that can be derived from other operations. \n",
    "\n",
    "(4) Good design demands good compromises: <br> \n",
    "- Data can either be retrieved from registers or memory. This speed and size trade-off accomodates different types of functions. \n",
    "- Instruction size is set to 32 bits, even if some instructions require a little less (R-type with no shamt value) and other a little more (J-type where pseudo addresses are used). \n",
    "- There 3 types of instructions to accomodate operations with a different number of operands. "
   ]
  },
  {
   "cell_type": "markdown",
   "id": "mexican-disorder",
   "metadata": {},
   "source": [
    "#### Exercise 6.2\n",
    "Yes, it might be possible to design a computer architecture with no register set. Although the resulting instruction set will be completely different from MIPS: \n",
    "\n",
    "<b> Disadvantages: </b> <br> \n",
    "- Almost all MIPS operations involve registers which only require 5 bits to identify. An instruction set that only manipulates memory will surely involves machine code instruction longer than 32 bits since the memory address of each operands must be specified some way. \n",
    "- Saved memory takes longer to retrieve than register value so not using any register will surely increase computing time.\n",
    "\n",
    "<b> Advantages: </b> <br> \n",
    "- Fewer instruction type will result from not using registers since saved-memory words all have the same address size. \n",
    "- Fewer instructions per program are needed since there is no need to load or save registers. "
   ]
  },
  {
   "cell_type": "markdown",
   "id": "demanding-collectible",
   "metadata": {},
   "source": [
    "#### Exercise 6.3\n",
    "(a) $42 \\times 4 = 168$ <br>\n",
    "(b) 168 to 171 <br> \n",
    "(c) <br>\n",
    "\n",
    "<img src=\"images\\P6_3.png\" width=\"250\" />"
   ]
  },
  {
   "cell_type": "markdown",
   "id": "arctic-michael",
   "metadata": {},
   "source": [
    "#### Exercise 6.4\n",
    "(a) $15 \\times 4 = 60$ <br>\n",
    "(b) $60$ to $63$ <br> \n",
    "(c) <br>\n",
    "\n",
    "<img src=\"images\\P6_4.PNG\" width=\"250\" />"
   ]
  },
  {
   "cell_type": "markdown",
   "id": "decent-upgrade",
   "metadata": {},
   "source": [
    "#### Exercise 6.5\n",
    "\n",
    "The first two instruction causes `$t0` to  hold `0xABCD9876` and then store into address 25. <br>\n",
    "The third instruction will result in `$s5` holding `0x000000CD` if the computer is big endian or `0x00000098` if the computer is little endian. \n"
   ]
  },
  {
   "cell_type": "markdown",
   "id": "academic-artwork",
   "metadata": {},
   "source": [
    "#### Exercise 6.6\n",
    "\n",
    "(a) 0x534F53 <br> \n",
    "(b) 436F6F6C21 <br>\n",
    "(c) 0x416C69 <br> "
   ]
  },
  {
   "cell_type": "markdown",
   "id": "stock-davis",
   "metadata": {},
   "source": [
    "#### Exercise 6.7\n",
    "\n",
    "(a) 0x686F776479 <br> \n",
    "(b) 0x6C696F6E73 <br>\n",
    "(c) 0x546F207468652072657363756521 <br> "
   ]
  },
  {
   "cell_type": "markdown",
   "id": "agricultural-indie",
   "metadata": {},
   "source": [
    "#### Exercise 6.8\n",
    "\n",
    "Assuming words are concatenated in the same order with no space in between such that the string to store is `SOSCool!Ali` encoded as `0x534F53436F6F6C21416C69`. <br> \n",
    "\n",
    "<img src=\"images\\P6_8.png\" />\n",
    "\n",
    "\n",
    "\n"
   ]
  },
  {
   "cell_type": "markdown",
   "id": "usual-primary",
   "metadata": {},
   "source": [
    "#### Exercise 6.9\n",
    "\n",
    "Assuming words are concatenated in the same order with no space in between such that the string to store is `howdylionsTo the rescue!` encoded as `0x686F7764796C696F6E73546F207468652072657363756521`. <br>\n",
    "\n",
    "<img src=\"images\\P6_9.png\" />\n"
   ]
  },
  {
   "attachments": {
    "P6_9.PNG": {
     "image/png": "[encoded data removed]"
    }
   },
   "cell_type": "markdown",
   "id": "certified-horror",
   "metadata": {},
   "source": [
    "#### Exercise 6.10\n",
    "\n",
    "![P6_9.PNG](attachment:P6_9.PNG)\n",
    "\n",
    "Assembly code: \n",
    "```\n",
    "add $t0, $s0, $s1\n",
    "lw $t0, 0x20($t7)\n",
    "addi $s0, $0, −10\n",
    "```\n",
    "\n",
    "Machine code in binary format: <br>\n",
    "`000000 10000 10001 01000 00000 100000` <br> \n",
    "`100000 01111 01000 0000000000010100` <br>\n",
    "`001000 00000 10000 1111111111111011` <br>\n",
    "\n",
    "Machine code in hex format: <br>\n",
    "`0x02114020` <br>\n",
    "`0x81E80014` <br> \n",
    "`0x2010FFFB` <br>\n"
   ]
  },
  {
   "cell_type": "markdown",
   "id": "alien-friendly",
   "metadata": {},
   "source": [
    "#### Exercise 6.11\n",
    "\n",
    "```\n",
    "addi $s0, $0, 73\n",
    "sw $t1, −7($t2)\n",
    "sub $t1, $s7, $s2\n",
    "```\n",
    "\n",
    "Machine code in binary format: <br>\n",
    "`001000 00000 10000 0000000010010010` <br>\n",
    "`101011 01010 01001 1111111111111001` <br>\n",
    "`000000 10111 10010 01001 00000 100010` <br>\n",
    " \n",
    "Machine code in hex format: <br>\n",
    "`0x20100092` <br>\n",
    "`0xAD49FFF9` <br>\n",
    "`0x02F24822` <br>\n"
   ]
  },
  {
   "cell_type": "markdown",
   "id": "vocational-maple",
   "metadata": {},
   "source": [
    "#### Exercise 6.12\n",
    "(a) `lw` and `addi`. <br> \n",
    "(b) `0x00000020` and `0xFFFFFFF6`. <br>  "
   ]
  },
  {
   "cell_type": "markdown",
   "id": "amber-exploration",
   "metadata": {},
   "source": [
    "#### Exercise 6.13\n",
    "\n",
    "(a) `addi` and `sw` <br> \n",
    "(b) `0x00000049` and `0xFFFFFFF9`\n"
   ]
  },
  {
   "cell_type": "markdown",
   "id": "german-duplicate",
   "metadata": {},
   "source": [
    "#### Exercise 6.14\n",
    "Machine code expressed in binary format: <br> \n",
    "\n",
    "Input machine code: <br> \n",
    "\n",
    "   \n",
    "```\n",
    "Address    |       32-bit instruction split             |   Machine Code          \n",
    "------------------------------------------------------------------------------------------\n",
    "0x00400000 | 001000 $0   $t0  0000000000000000  (I-type) |  addi $t0, $0,  $0   # t0 = 0 \n",
    "0x00400004 | 001000 $0   $t1  0000000000000001  (I-type) |  addi $t1, $0,  $1   # t1 = 1 \n",
    "0x00400008 | 000000 $a0  $t1  $t2 00000 101010  (R-type) |  slt  $t2, $a0, $t1  # t2 = (a0 < t1)\n",
    "0x0040000C | 000101 $t2  $0   0000000000000011  (I-type) |  bne  $t2, $0,  $3   # if (t2 != 0)\n",
    "0x00400010 | 000000 $t0  $t1  $t0 00000 100000  (R-type) |  add  $t0, $t0, $t1  # t0 = t0 + t1 \n",
    "0x00400014 | 001000 $t1  $t1  0000000000000010  (I-type) |  addi $t1, $t1       # t1 = t1 + 2   \n",
    "0x00400018 | 000010 00000100000000000000000010  (J-type) |  j 0x400008          # jump to 0x400008  \n",
    "0x0040001C | 000000 $t0  $0   $v0 00000 100000  (I-type) |  add  $v0, $t0       # v0 = t0; \n",
    "0x00400020 | 000000 $ra  $0   $0  00000 001000  (I-type) |  jr   $ra            # return; \n",
    "```   \n",
    "\n",
    "\n",
    "\n",
    "The function returns the highest number of the fibonacci sequence that is smaller or equal to the function input. \n",
    "```C\n",
    "int funt(int a){\n",
    "    int t0 = 0; \n",
    "    int t1 = 1; \n",
    "    while (t1 <= a){\n",
    "        t0 += t1; \n",
    "        ta += 2; \n",
    "    }\n",
    "    return v0; \n",
    "}\n",
    "\n",
    "```\n"
   ]
  },
  {
   "cell_type": "markdown",
   "id": "multiple-aruba",
   "metadata": {},
   "source": [
    "#### Exercise 6.15\n",
    "\n",
    "\n",
    "\n",
    "Machine code expressed in binary format: <br> \n",
    "\n",
    "Input machine code: <br> \n",
    "\n",
    "   \n",
    "```\n",
    "    Address    |       32-bit instruction split    |   Machine Code          \n",
    "---------------------------------------------------------------------------------------\n",
    "    0x00400000 | 001000 0  t0 0000000000011111     | addi $t0, $0, 31    # t0 = 31\n",
    "GO:            |                                   |\n",
    "    0x00400004 | 000000 t0 a0  t1 00000 000110     | srlv $t1, $a0, $t0  # t1 = a0 >> t0\n",
    "    0x00400008 | 001100 t1 t1 0000000000000001     | andi $t1, $t1, 1    # t1 = t1 & 1\n",
    "    0x0040000C | 000000 0  t1 t1 00000 101010      | slt  $t1, $0, $t1   # t1 = 0 < t1\n",
    "    0x00400010 | 101000 a1 t1 0000000000000000     | sb   $t1, 0($a1),   # t1 = 0($a1)\n",
    "    0x00400014 | 001000 a1 a1 0000000000000001     | addi $a1, $a1, 1    # a1 = a1+1\n",
    "    0x00400018 | 001000 t0 t0 1111111111111111     | addi $t0, $t0, -1   # t0 = t0-1\n",
    "    0x0040001C | 000001 t0 at 1111111111111001     | bgez $t0, GO        #     \n",
    "    0x00400020 | 000000 ra 0  0 00000 001000       | jr $ra              # return\n",
    "\n",
    "```   \n",
    "\n",
    "The function takes 32-bit binary number in passed in `a0` ands stores \n",
    "\n",
    "```C\n",
    "void funct(int a){\n",
    "    t = 31; \n",
    "    for (int i = 0 i < 32 ; i++){\n",
    "        arr[i] = (a >> t) & 0x00000001; \n",
    "        t--; \n",
    "    }\n",
    "}\n",
    "```"
   ]
  },
  {
   "cell_type": "markdown",
   "id": "rising-purse",
   "metadata": {},
   "source": [
    "#### Exercise 6.16\n",
    "\n",
    "```\n",
    "or $t0, $t1, 0xF234   # computes $t0 = $t1 or 0xF234 \n",
    "nor $t0, $t0, $0      # computes $t0 = not($t0)\n",
    "\n",
    "```\n"
   ]
  },
  {
   "cell_type": "markdown",
   "id": "irish-strand",
   "metadata": {},
   "source": [
    "#### Exercise 6.17\n",
    "\n",
    "(a) \n",
    "```\n",
    "func: \n",
    "    slt $t0, $s1, $s0   # t = g > h\n",
    "    beq $t0, $0, else   # if (t) goto L \n",
    "    add $s0, $s0, $s1   # g = g + h\n",
    "    j end\n",
    "else: \n",
    "    sub $s0, $s0, $s1   # g = g - h\n",
    "end: \n",
    "    jr  $ra\n",
    "\n",
    "``` \n",
    "<br>\n",
    "\n",
    "(b) \n",
    "```\n",
    "func: \n",
    "    slt $t0, $s0, $s1   # t = (g < h)\n",
    "    bne $t0, $0, else   if (g < h) go to else  \n",
    "    addi $s0, $s0, 1    # g = g + h\n",
    "    j end\n",
    "else: \n",
    "    addi $s1, $s1, -1   # h = h - 1\n",
    "end: \n",
    "    jr $ra\n",
    "    \n",
    "```\n",
    "<br> \n",
    "\n",
    "(c) \n",
    "\n",
    "```\n",
    "func: \n",
    "    slt $t0, $s1, $s0\n",
    "    bne $t0, $0, else \n",
    "    addi $s0, $0, 0\n",
    "    j end\n",
    "else: \n",
    "    addi $s1, $0, 0\n",
    "end: \n",
    "    jr $ra\n",
    "```\n",
    "\n",
    "\n"
   ]
  },
  {
   "cell_type": "markdown",
   "id": "appreciated-premium",
   "metadata": {},
   "source": [
    "#### Exercise 6.18\n",
    "\n",
    "```C\n",
    "int find42(int array[], int size){\n",
    "\n",
    "    for (int i = 0; i < size; i++){\n",
    "        (if array[i] == 42) return i;\n",
    "    }\n",
    "    return -1; \n",
    "} \n",
    "```"
   ]
  },
  {
   "cell_type": "markdown",
   "id": "economic-checklist",
   "metadata": {},
   "source": [
    "#### Exercise 6.19\n",
    "\n",
    "(a) <br> \n",
    "```\n",
    "strcpy:\n",
    "    addi $sp, $sp, -4\n",
    "    sw $s0, 0($sp)      # save s0\n",
    "    addi $s0, $0, 0     # s0 = 0 // initialize counter index \n",
    "    addi $t2, $0, 0     # t2 = 0 // initialize temp char\n",
    "\n",
    "LC: \n",
    "    add $t1, $a1, $s0   # address of char to read\n",
    "    add $t0, $a0, $s0   # address of char to write \n",
    "    lb $t2, 0$($t1)     # load & save into register $t2\n",
    "    sb $t2 $0($t0)\n",
    "    addi $s0, $s0, 1    # i++\n",
    "    bne $t2, $0, LC\n",
    "    lw $s0, 0($sp)      # load back s0\n",
    "    addi $sp, $sp, 4    # increment free stack memory\n",
    "    jr $ra              # return \n",
    "```\n",
    "(b) <br> \n",
    "\n",
    "<img src=\"images\\P6_19.PNG\" width=\"400\" />"
   ]
  },
  {
   "cell_type": "markdown",
   "id": "healthy-eleven",
   "metadata": {},
   "source": [
    "#### Exercise 6.20\n",
    "\n",
    "```\n",
    "find42: \n",
    "    addi $t0, $0, 0      # i = 0\n",
    "    addi $v0, $0, -1     # v0 = -1 \n",
    "    addi $t2, $0, 42     # t2 = 42\n",
    "    addi $t3, $a1, 0     # set t3 as array address offset \n",
    "loop: \n",
    "    slt $t1, $t0, $a0    # t1 = i < size \n",
    "    beq $t1, $0, break   # break loop if (i < size) \n",
    "    lw  $t4, 0($t3)      # t4 = arr[i]\n",
    "    beq $t4, $t2, set42  # if arr[i] == 42, set42\n",
    "    addi $t3, $t3, 4     # increment array address offset by 4 \n",
    "    addi $t0, $0, 1      # i++ \n",
    "    j loop\n",
    "set42: \n",
    "    addi $v0, $0, $t0\n",
    "break: \n",
    "    jr $ra\n",
    "\n",
    "```"
   ]
  },
  {
   "cell_type": "markdown",
   "id": "classical-posting",
   "metadata": {},
   "source": [
    "#### Exercise 6.21\n",
    "\n",
    "(a) 3, 7, 4 and 0 for func1, func2, func3 and func4 respectively. \n",
    "\n",
    "`func1`, `func2`, `func3` all need to store they saved registers and their return address since they are not leaf functions. `func4` stores no registers on the stack since it's leaf function and uses no saved register. \n",
    "\n",
    "\n",
    "(b) \n",
    "<img src=\"images\\P6_21.PNG\" width=\"500\" />\n"
   ]
  },
  {
   "cell_type": "markdown",
   "id": "characteristic-feelings",
   "metadata": {},
   "source": [
    "#### Exercise 6.22\n",
    "\n",
    "(a) <br> \n",
    "\n",
    "$fib(2) = fib(1) + fib(0) = 1 \\implies fib(0) = 0 $ <br> \n",
    "$fib(1) = fib(0) + fib(-1) = 1 \\implies fib(-1) = 0 $\n",
    "\n",
    "(b) <br>\n",
    "```C\n",
    "int fib(int n){\n",
    "    int p0 = 0; \n",
    "    int p1 = 1;\n",
    "    int temp; \n",
    "    for (int i = 1; i< n; i++){\n",
    "        temp = p1; \n",
    "        p1 = p0 + p1; \n",
    "        p0 = temp;\n",
    "    }\n",
    "    return p1; \n",
    "}\n",
    "```\n",
    "(c) <br> \n",
    "\n",
    "\n",
    "```\n",
    "fib: \n",
    "    addi $t0, $0, 0     # p0 = 0\n",
    "    addi $t1, $0, 1     # p1 = 1\n",
    "    addi $t2, $0, 1     # i = 0 \n",
    "loop: \n",
    "    slt $t3, $t2, $a0   # i < n \n",
    "    beq $t3, $0 end     # exit loop if !(i<n)\n",
    "    add $t4, $t1, $0    # temp = p1\n",
    "    add $t1, $t1, $t0   # p1 = p1 + p0 \n",
    "    add $t0, $t4, $0    # p0 = temp\n",
    "    addi $t2, $t2, 1    # i++\n",
    "    j loop: \n",
    "end: \n",
    "    add $v0, $t1, $0\n",
    "    jr $ra\n",
    "\n",
    "``` \n",
    "\n"
   ]
  },
  {
   "cell_type": "markdown",
   "id": "fleet-powell",
   "metadata": {},
   "source": [
    "#### Exercise 6.23\n",
    "(a) <br> \n",
    "`$v0` = 120 <br> \n",
    "\n",
    "(b) <br> \n",
    "The first answer - Enter an inifinite loop but not crash. \n",
    "\n",
    "(c) <br> \n",
    "(i) The third answer - Return an incorrect value. 1 in this case. <br> \n",
    "(ii) The second answer - Crash <br> \n",
    "(iii) The fourth answer - Run correctly despite delete lines. "
   ]
  },
  {
   "cell_type": "markdown",
   "id": "designed-passenger",
   "metadata": {},
   "source": [
    "#### Exercise 6.24\n",
    "\n",
    "(a) <br> \n",
    "Yes, the function does output $2a + 3b$. <br> \n",
    "`$v0` = 19 \n",
    "\n",
    "(b) <br> \n",
    "Removing those two lines will result in `$PC` jumping back indefinitely from `0x0040004C` to `0x00400030`, which will cause the stack pointer to increase indefinitiely until it exceeds the dynamic data segment limit. The program will then crash. The answer is (2). <br> \n",
    "\n",
    "(c) <br> \n",
    "\n",
    "(i) (3) Output the wrong value of $a + 4b$. <br> \n",
    "(ii) (4) Run correctly despite deleted line.   <br> \n",
    "(iii) (4) Run correctly despite the deleted line. However, the caller of the `test` function will have its `$s0` register altered and thus is likely to crash. <br> \n",
    "(iv) (2) The stack pointer `$sp` should grow beyond the limit of the data segment.  \n",
    "(v) (3) Output the wrong value of $a + 3+  3b$. <br> \n",
    "(vi) Removing those two lines will result in `$PC` jumping back indefinitely from `0x00400078` to `0x0040008C`, which will cause the stack pointer to increase indefinitiely until it exceeds the dynamic data segment limit. The program will then crash. The answer is (2). <br> \n",
    "(vii) if $b = 0$, the function should run correctly <br>\n",
    "(viii) The function should run correctly\n"
   ]
  },
  {
   "cell_type": "markdown",
   "id": "greatest-contract",
   "metadata": {},
   "source": [
    "#### Exercise 6.25\n",
    "\n",
    "(a) `000100 01000 10001 0000000000000010 = 0x11110002`<br> \n",
    "(b) `000100 01111 10100 0000010000001111 = 0x11F4040F`<br> \n",
    "(c) `000100 11001 10111 1111100001000010 = 0x1337F842`<br> \n",
    "(d) `000011 00000100000100010100011111   = 0x0C10451F`<br> \n",
    "(e) `000010 00000100000000110000000001   = 0x08100C01` <br> \n",
    "\n",
    "\n",
    "\n"
   ]
  },
  {
   "attachments": {},
   "cell_type": "markdown",
   "id": "federal-publicity",
   "metadata": {},
   "source": [
    "###### Exercise 6.26\n",
    "\n",
    "\n",
    "Machine code in binary: <br> \n",
    "`000000 00101 00000 00100 00000 100000`   <br> \n",
    "`000011 00000100000000000000001101`       <br> \n",
    "`000000 11111 00000 00000 00000 001000`   <br> \n",
    "`101011 10010 10000 0000000000000000`     <br>\n",
    "`000101 00100 00000 0000000000000001`     <br> \n",
    "`000010 00000100000000000000001100`       <br> \n",
    "`001000 00100 00100 1111111111111111`     <br> \n",
    "`000010 00000100000000000000001101`       <br> \n",
    "\n",
    "Machine code in hex: <br> \n",
    "`0x00A02020` (Register-Only Addressing) <br>\n",
    "`0x0C10000D` (Pseudo-Direct Addressing) <br> \n",
    "`0x03E00008` (Register-Only Addressing) <br> \n",
    "`0xAE500000` (Base Addressing) <br> \n",
    "`0x14800001` (PC-Relative Addressing) <br> \n",
    "`0x0810000C` (Pseudo-Direct Addressing) <br> \n",
    "`0x2084FFFF` (Immediate Addressing) <br> \n",
    "`0x0810000D` (Pseudo-Direct Addressing) <br> \n",
    "\n"
   ]
  },
  {
   "cell_type": "markdown",
   "id": "portable-hacker",
   "metadata": {},
   "source": [
    "#### Exercise 6.27\n",
    "\n",
    "\n",
    "\n",
    "\n",
    "\n",
    "\n",
    "\n",
    "\n"
   ]
  },
  {
   "cell_type": "markdown",
   "id": "realistic-butter",
   "metadata": {},
   "source": [
    "#### Exercise 6.28\n",
    "#### Exercise 6.29\n",
    "#### Exercise 6.30\n",
    "#### Exercise 6.31\n",
    "#### Exercise 6.32\n",
    "#### Exercise 6.33\n",
    "#### Exercise 6.34\n",
    "#### Exercise 6.35\n",
    "#### Exercise 6.36\n",
    "#### Exercise 6.37\n",
    "#### Exercise 6.38\n",
    "#### Exercise 6.39"
   ]
  }
 ],
 "metadata": {
  "kernelspec": {
   "display_name": "Python 3",
   "language": "python",
   "name": "python3"
  },
  "language_info": {
   "codemirror_mode": {
    "name": "ipython",
    "version": 3
   },
   "file_extension": ".py",
   "mimetype": "text/x-python",
   "name": "python",
   "nbconvert_exporter": "python",
   "pygments_lexer": "ipython3",
   "version": "3.9.2"
  }
 },
 "nbformat": 4,
 "nbformat_minor": 5
}
