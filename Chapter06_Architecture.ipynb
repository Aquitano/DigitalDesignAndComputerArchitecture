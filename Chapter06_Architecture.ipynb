{
 "cells": [
  {
   "cell_type": "markdown",
   "id": "speaking-expression",
   "metadata": {},
   "source": [
    "## Chapter 6 - Architecture \n",
    "\n",
    "\n",
    "## Exercises:"
   ]
  },
  {
   "cell_type": "markdown",
   "id": "overhead-might",
   "metadata": {},
   "source": [
    "#### Exercise 6.1"
   ]
  },
  {
   "cell_type": "markdown",
   "id": "initial-tamil",
   "metadata": {},
   "source": [
    "#### Exercise 6.2\n",
    "Yes, it is possible to design a computer architecture with no register set. "
   ]
  },
  {
   "cell_type": "markdown",
   "id": "heavy-missouri",
   "metadata": {},
   "source": [
    "#### Exercise 6.3\n",
    "(a) $42 \\times 4 = 168$ <br>\n",
    "(b) 168 to 171 <br> \n",
    "(c) <br>\n",
    "\n",
    "<img src=\"images\\P6_3.PNG\" width=\"250\" />"
   ]
  },
  {
   "cell_type": "markdown",
   "id": "prerequisite-tucson",
   "metadata": {},
   "source": [
    "#### Exercise 6.4\n",
    "(a) $15 \\times 4 = 60$ <br>\n",
    "(b) $60$ to $63$ <br> \n",
    "(c) <br>\n",
    "\n",
    "<img src=\"images\\P6_4.PNG\" width=\"250\" />"
   ]
  },
  {
   "cell_type": "markdown",
   "id": "passive-taylor",
   "metadata": {},
   "source": [
    "#### Exercise 6.5\n",
    "\n",
    "The first two instruction causes `$t0` to  hold `0xABCD9876` and then store into address 25. <br>\n",
    "The third instruction will result in `$s5` holding `0x000000CD` if the computer is big endian or `0x00000098` if the computer is little endian. \n"
   ]
  },
  {
   "cell_type": "markdown",
   "id": "sealed-safety",
   "metadata": {},
   "source": [
    "#### Exercise 6.6\n",
    "\n",
    "(a) 0x534F53 <br> \n",
    "(b) 436F6F6C21 <br>\n",
    "(c) 0x416C69 <br> "
   ]
  },
  {
   "cell_type": "markdown",
   "id": "round-array",
   "metadata": {},
   "source": [
    "#### Exercise 6.7\n",
    "\n",
    "(a) 0x686F776479 <br> \n",
    "(b) 0x6C696F6E73 <br>\n",
    "(c) 0x546F207468652072657363756521 <br> "
   ]
  },
  {
   "attachments": {},
   "cell_type": "markdown",
   "id": "polyphonic-pursuit",
   "metadata": {},
   "source": [
    "#### Exercise 6.8\n",
    "\n",
    "Assuming words are concatenated in the same order with no space in between such that the string to store is `SOSCool!Ali` encoded as `0x534F53436F6F6C21416C69`. <br> \n",
    "\n",
    "<img src=\"images\\P6_8.PNG\" width=\"250\" />\n",
    "\n",
    "\n",
    "\n"
   ]
  },
  {
   "attachments": {},
   "cell_type": "markdown",
   "id": "adapted-remove",
   "metadata": {},
   "source": [
    "#### Exercise 6.9\n",
    "\n",
    "Assuming words are concatenated in the same order with no space in between such that the string to store is `howdylionsTo the rescue!` encoded as `0x686F7764796C696F6E73546F207468652072657363756521`. <br>\n",
    "\n",
    "<img src=\"images\\P6_9.PNG\" width=\"250\" />\n",
    "\n"
   ]
  },
  {
   "cell_type": "markdown",
   "id": "clinical-publication",
   "metadata": {},
   "source": [
    "#### Exercise 6.10\n",
    "\n",
    "\n",
    "Assembly code: \n",
    "```\n",
    "add $t0, $s0, $s1\n",
    "lw $t0, 0x20($t7)\n",
    "addi $s0, $0, −10\n",
    "```\n",
    "\n",
    "Machine code in binary format: <br>\n",
    "`000000 10000 10001 01000 00000 100000` <br> \n",
    "`100000 01111 01000 0000000000010100` <br>\n",
    "`001000 00000 10000 1111111111111011` <br>\n",
    "\n",
    "Machine code in hex format: <br>\n",
    "`0x02114020` <br>\n",
    "`0x81E80014` <br> \n",
    "`0x2010FFFB` <br>\n"
   ]
  },
  {
   "cell_type": "markdown",
   "id": "exempt-timeline",
   "metadata": {},
   "source": [
    "#### Exercise 6.11\n",
    "\n",
    "```\n",
    "addi $s0, $0, 73\n",
    "sw $t1, −7($t2)\n",
    "sub $t1, $s7, $s2\n",
    "```\n",
    "\n",
    "Machine code in binary format: <br>\n",
    "`001000 00000 10000 0000000010010010` <br>\n",
    "`101011 01010 01001 1111111111111001` <br>\n",
    "`000000 10111 10010 01001 00000 100010` <br>\n",
    " \n",
    "Machine code in hex format: <br>\n",
    "`0x20100092` <br>\n",
    "`0xAD49FFF9` <br>\n",
    "`0x02F24822` <br>\n"
   ]
  },
  {
   "cell_type": "markdown",
   "id": "proud-baltimore",
   "metadata": {},
   "source": [
    "#### Exercise 6.12"
   ]
  },
  {
   "cell_type": "markdown",
   "id": "antique-dayton",
   "metadata": {},
   "source": [
    "#### Exercise 6.13"
   ]
  },
  {
   "cell_type": "markdown",
   "id": "coral-unknown",
   "metadata": {},
   "source": [
    "#### Exercise 6.14"
   ]
  },
  {
   "cell_type": "markdown",
   "id": "wicked-inspiration",
   "metadata": {},
   "source": [
    "#### Exercise 6.15"
   ]
  },
  {
   "cell_type": "markdown",
   "id": "exceptional-victim",
   "metadata": {},
   "source": [
    "#### Exercise 6.16"
   ]
  },
  {
   "attachments": {},
   "cell_type": "markdown",
   "id": "realistic-butter",
   "metadata": {},
   "source": [
    "#### Exercise 6.17\n",
    "#### Exercise 6.18\n",
    "#### Exercise 6.19\n",
    "#### Exercise 6.20\n",
    "#### Exercise 6.21\n",
    "#### Exercise 6.22\n",
    "#### Exercise 6.23\n",
    "#### Exercise 6.24\n",
    "#### Exercise 6.25\n",
    "#### Exercise 6.26\n",
    "#### Exercise 6.27\n",
    "#### Exercise 6.28\n",
    "#### Exercise 6.29\n",
    "#### Exercise 6.30\n",
    "#### Exercise 6.31\n",
    "#### Exercise 6.32\n",
    "#### Exercise 6.33\n",
    "#### Exercise 6.34\n",
    "#### Exercise 6.35\n",
    "#### Exercise 6.36\n",
    "#### Exercise 6.37\n",
    "#### Exercise 6.38\n",
    "#### Exercise 6.39"
   ]
  }
 ],
 "metadata": {
  "kernelspec": {
   "display_name": "Python 3",
   "language": "python",
   "name": "python3"
  },
  "language_info": {
   "codemirror_mode": {
    "name": "ipython",
    "version": 3
   },
   "file_extension": ".py",
   "mimetype": "text/x-python",
   "name": "python",
   "nbconvert_exporter": "python",
   "pygments_lexer": "ipython3",
   "version": "3.9.2"
  }
 },
 "nbformat": 4,
 "nbformat_minor": 5
}
