{
 "cells": [
  {
   "cell_type": "markdown",
   "id": "universal-percentage",
   "metadata": {},
   "source": [
    "## Chapter 8 - Microarchitecture \n",
    "\n",
    "\n",
    "\n",
    "\n",
    "## Exercises:\n",
    "\n",
    "#### Exercise 8.1\n",
    "#### Exercise 8.2\n",
    "#### Exercise 8.3\n",
    "#### Exercise 8.4\n",
    "#### Exercise 8.5\n",
    "#### Exercise 8.6\n",
    "#### Exercise 8.7\n",
    "#### Exercise 8.8\n",
    "#### Exercise 8.9\n",
    "#### Exercise 8.10\n",
    "#### Exercise 8.11\n",
    "#### Exercise 8.12\n",
    "#### Exercise 8.13\n",
    "#### Exercise 8.14\n",
    "#### Exercise 8.15\n",
    "#### Exercise 8.16\n",
    "#### Exercise 8.17\n",
    "#### Exercise 8.18\n",
    "#### Exercise 8.19\n",
    "#### Exercise 8.20\n",
    "#### Exercise 8.21\n",
    "#### Exercise 8.22\n",
    "#### Exercise 8.23\n",
    "#### Exercise 8.24\n",
    "#### Exercise 8.25\n",
    "#### Exercise 8.26\n",
    "#### Exercise 8.27\n",
    "#### Exercise 8.28\n",
    "#### Exercise 8.29\n",
    "#### Exercise 8.30\n",
    "\n"
   ]
  }
 ],
 "metadata": {
  "kernelspec": {
   "display_name": "Python 3",
   "language": "python",
   "name": "python3"
  },
  "language_info": {
   "codemirror_mode": {
    "name": "ipython",
    "version": 3
   },
   "file_extension": ".py",
   "mimetype": "text/x-python",
   "name": "python",
   "nbconvert_exporter": "python",
   "pygments_lexer": "ipython3",
   "version": "3.9.2"
  }
 },
 "nbformat": 4,
 "nbformat_minor": 5
}
